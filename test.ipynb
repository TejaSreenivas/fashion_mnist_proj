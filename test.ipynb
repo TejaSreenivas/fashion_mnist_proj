{
 "cells": [
  {
   "cell_type": "code",
   "execution_count": 1,
   "metadata": {},
   "outputs": [],
   "source": [
    "import tensorflow as tf\n",
    "import numpy as np\n",
    "import os"
   ]
  },
  {
   "cell_type": "code",
   "execution_count": 13,
   "metadata": {},
   "outputs": [],
   "source": [
    "with tf.variable_scope(\"outside\",reuse=tf.AUTO_REUSE):\n",
    "    x = tf.get_variable(name='x',initializer=tf.truncated_normal([2,3])).eval()\n",
    "    y = tf.get_variable(name='y',initializer=tf.truncated_normal([7,4,5])).eval()"
   ]
  },
  {
   "cell_type": "code",
   "execution_count": null,
   "metadata": {},
   "outputs": [],
   "source": []
  },
  {
   "cell_type": "code",
   "execution_count": 3,
   "metadata": {},
   "outputs": [
    {
     "name": "stdout",
     "output_type": "stream",
     "text": [
      "(2, 3)\n",
      "6\n",
      "____\n",
      "(7, 4, 5)\n",
      "140\n",
      "____\n"
     ]
    }
   ],
   "source": [
    "for var in tf.trainable_variables():\n",
    "    shape = var.get_shape()\n",
    "    print(shape)\n",
    "    pd = 1\n",
    "    for x in shape:\n",
    "        pd*=x.value\n",
    "    print(pd)\n",
    "    print(\"____\")"
   ]
  },
  {
   "cell_type": "code",
   "execution_count": 14,
   "metadata": {},
   "outputs": [],
   "source": [
    "with tf.variable_scope(\"first\",reuse=tf.AUTO_REUSE):\n",
    "    a = tf.get_variable(\"a\",initializer=tf.truncated_normal([4,4])).eval()\n",
    "    b = tf.get_variable(\"b\",initializer = tf.truncated_normal([5,6])).eval()"
   ]
  },
  {
   "cell_type": "code",
   "execution_count": 5,
   "metadata": {},
   "outputs": [],
   "source": [
    "def get_scope(l,i):\n",
    "    if len(l)-1 == i:\n",
    "        return tf.get_variable(name=l[i][:-2]).eval()\n",
    "    with tf.variable_scope(l[i],reuse=True):\n",
    "        get_scope(l,i+1)"
   ]
  },
  {
   "cell_type": "code",
   "execution_count": 15,
   "metadata": {},
   "outputs": [
    {
     "name": "stderr",
     "output_type": "stream",
     "text": [
      "C:\\Users\\k_tej\\Anaconda3\\envs\\tensorflow\\lib\\site-packages\\tensorflow\\python\\client\\session.py:1714: UserWarning: An interactive session is already active. This can cause out-of-memory errors in some cases. You must explicitly call `InteractiveSession.close()` to release resources held by the other session(s).\n",
      "  warnings.warn('An interactive session is already active. This can '\n"
     ]
    }
   ],
   "source": [
    "sess = tf.InteractiveSession()\n",
    "tf.global_variables_initializer().run()\n",
    "store=dict()\n",
    "for var in tf.trainable_variables():\n",
    "    l=var.name.split('/')\n",
    "    store[var.name] = get_scope(l,0)"
   ]
  },
  {
   "cell_type": "code",
   "execution_count": 16,
   "metadata": {},
   "outputs": [
    {
     "data": {
      "text/plain": [
       "{'outside/x:0': None,\n",
       " 'outside/y:0': None,\n",
       " 'first/a:0': None,\n",
       " 'first/b:0': None}"
      ]
     },
     "execution_count": 16,
     "metadata": {},
     "output_type": "execute_result"
    }
   ],
   "source": [
    "store"
   ]
  }
 ],
 "metadata": {
  "kernelspec": {
   "display_name": "Python 3",
   "language": "python",
   "name": "python3"
  },
  "language_info": {
   "codemirror_mode": {
    "name": "ipython",
    "version": 3
   },
   "file_extension": ".py",
   "mimetype": "text/x-python",
   "name": "python",
   "nbconvert_exporter": "python",
   "pygments_lexer": "ipython3",
   "version": "3.6.0"
  }
 },
 "nbformat": 4,
 "nbformat_minor": 2
}
