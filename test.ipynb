{
 "cells": [
  {
   "cell_type": "code",
   "execution_count": 1,
   "metadata": {},
   "outputs": [],
   "source": [
    "import tensorflow as tf\n",
    "import os\n",
    "import numpy as np\n",
    "import time\n",
    "import matplotlib.pyplot as plt "
   ]
  },
  {
   "cell_type": "code",
   "execution_count": 3,
   "metadata": {},
   "outputs": [
    {
     "data": {
      "text/plain": [
       "array([[0, 0, 0, 0, 0, 0, 0, 0, 0, 0],\n",
       "       [0, 0, 0, 0, 0, 0, 0, 0, 0, 0],\n",
       "       [0, 0, 0, 0, 0, 0, 0, 0, 0, 0],\n",
       "       [0, 0, 0, 0, 0, 0, 0, 0, 0, 0],\n",
       "       [0, 0, 0, 0, 0, 0, 0, 0, 0, 0],\n",
       "       [0, 0, 0, 0, 0, 0, 0, 0, 0, 0],\n",
       "       [0, 0, 0, 0, 0, 0, 0, 0, 0, 0],\n",
       "       [0, 0, 0, 0, 0, 0, 0, 0, 0, 0],\n",
       "       [0, 0, 0, 0, 0, 0, 0, 0, 0, 0],\n",
       "       [0, 0, 0, 0, 0, 0, 0, 0, 0, 0]])"
      ]
     },
     "execution_count": 3,
     "metadata": {},
     "output_type": "execute_result"
    }
   ],
   "source": [
    "np.zeros((10,10),dtype=np.int32)"
   ]
  },
  {
   "cell_type": "code",
   "execution_count": 2,
   "metadata": {},
   "outputs": [
    {
     "name": "stdout",
     "output_type": "stream",
     "text": [
      "19 10\n",
      "19 10\n",
      "19 10\n",
      "19 10\n"
     ]
    }
   ],
   "source": [
    "from prep import mnist_funct, fashion_funct, merger\n",
    "mnist = mnist_funct()\n",
    "fashion = fashion_funct()\n",
    "merged = merger()"
   ]
  },
  {
   "cell_type": "code",
   "execution_count": 24,
   "metadata": {},
   "outputs": [
    {
     "data": {
      "image/png": "[encoded data removed]",
      "text/plain": [
       "<Figure size 432x288 with 2 Axes>"
      ]
     },
     "metadata": {},
     "output_type": "display_data"
    },
    {
     "name": "stdout",
     "output_type": "stream",
     "text": [
      "merged label : 5\n",
      " label : 2\n"
     ]
    }
   ],
   "source": [
    "i = np.random.randint(60000)\n",
    "f = plt.figure()\n",
    "f.add_subplot(1,2, 1)\n",
    "plt.imshow(merged['train_x'][i,:,:,:].reshape(28,28))\n",
    "f.add_subplot(1,2, 2)\n",
    "plt.imshow(mnist['train_x'][i,:,:,:].reshape(28,28))\n",
    "plt.show(block=True)\n",
    "print(\"merged label : {}\".format(merged['train_y'][i]))\n",
    "print(\" label : {}\".format(mnist['train_y'][i]))"
   ]
  },
  {
   "cell_type": "code",
   "execution_count": 12,
   "metadata": {},
   "outputs": [
    {
     "data": {
      "text/plain": [
       "array([ 0,  4,  4,  4, 10,  0, 12, 18,  2, 15,  7, 17, 13, 19,  1, 18, 17,\n",
       "        2,  0,  0,  5, 14, 11, 17,  1,  2,  5,  2,  1,  4, 13,  0,  8,  3,\n",
       "        1, 12,  2, 12,  0, 18,  8, 12,  8, 18, 15, 19,  1, 15, 18,  4,  4,\n",
       "       13,  7, 11, 14,  3, 17, 12, 13,  7,  0, 12, 14,  3, 12, 15,  3, 19,\n",
       "        4,  3, 15, 15, 17,  5, 15,  5,  6,  6, 16,  6, 18,  5,  7,  7, 16,\n",
       "       14, 11, 17,  4, 10,  0,  3,  5, 16, 11,  4,  5, 16,  7, 16, 17, 13,\n",
       "       12,  7, 19, 12, 12, 17,  8,  8,  9,  7, 17,  8,  4,  2,  1,  3,  7,\n",
       "        7,  3,  5,  3,  3,  6, 14, 15,  7, 11, 16, 16,  2,  7,  5, 17, 10,\n",
       "       15, 13,  3, 17,  3, 15,  7,  7,  1,  2,  1,  0, 17,  1,  6,  8, 12,\n",
       "       11,  0,  5,  3,  9, 19,  6,  8,  1, 17, 12, 11,  1, 19, 13,  0, 15,\n",
       "       17, 14,  6, 16, 16,  3,  7, 10,  9,  3,  2,  0,  1,  1, 17,  8,  2,\n",
       "       17, 10,  4,  2, 11, 14,  6, 11,  0,  8, 12,  6,  7,  9, 19, 19,  9,\n",
       "        1, 18, 19,  6, 18, 18, 15,  6,  7, 18,  6,  5,  5,  5, 12,  0, 10,\n",
       "       11,  2,  1, 18, 19,  7,  4, 13, 10, 15, 10, 18,  8, 10,  2,  9, 17,\n",
       "        6,  2,  2, 19, 16,  0,  0,  9, 11, 12, 19,  5,  3,  2,  1,  4,  4,\n",
       "        6,  4, 14, 11, 18,  4, 16,  9, 17, 12,  5,  8,  1, 18, 10,  8,  3,\n",
       "        9,  6, 18,  9, 19, 14,  0,  5, 10, 15, 13, 15,  2, 19, 18,  7,  6,\n",
       "        7, 11, 14, 12,  9,  8,  4, 12,  8,  4,  1,  4,  1,  9, 11, 10, 10,\n",
       "        0, 10,  3,  8, 17, 15,  7, 17,  5,  7,  5,  1,  1, 18,  1,  9,  6,\n",
       "        2,  9,  6,  0, 19,  1, 16, 11,  3, 11, 18, 12, 19, 19,  2,  2,  9,\n",
       "        9,  3,  1, 13, 11,  5,  9,  5, 16, 18, 15,  7, 18, 18, 11,  5,  2,\n",
       "        6, 10, 16, 15,  7, 16, 15,  7,  6, 12, 16,  8, 11, 10, 18, 19, 19,\n",
       "       17,  0, 18, 10, 16,  1,  9, 18, 12,  3, 16,  2,  1,  9,  5, 17,  5,\n",
       "        6, 18,  7,  3,  0,  1, 15, 13,  1,  2,  6,  3,  4,  8,  7, 14,  1,\n",
       "       12, 15,  2, 12,  1,  4, 13,  8,  4, 16,  9,  6,  4, 10, 15, 17, 12,\n",
       "       19,  6, 17,  4,  2,  8, 10, 18,  2, 13, 13, 12,  2,  3, 13,  9, 18,\n",
       "        9,  8,  5, 12,  9, 16,  3, 17, 14, 19, 19, 11, 13,  2,  5,  4, 15,\n",
       "        7, 14, 19,  9,  9,  2,  5, 11, 15, 16,  1,  3,  0,  9, 17,  8,  2,\n",
       "        7, 13, 18, 14,  2,  2, 16, 10, 14,  8,  1, 14,  6, 19,  2, 10,  2,\n",
       "        7, 18, 15,  0,  9, 17,  1,  1, 12,  7, 19,  7, 12, 10,  7,  2,  9,\n",
       "        8,  3,  4, 19,  7, 10,  9,  8, 10,  4,  9, 15,  2, 15, 14, 16, 18,\n",
       "       15, 16,  7,  8,  6, 11, 16,  8,  6,  7,  5, 17,  0,  1,  2,  2, 10,\n",
       "        5, 18, 17,  3, 19,  1,  3,  8,  1,  3, 18, 14,  6,  9, 15,  8,  1,\n",
       "        8,  0, 16, 13, 19,  4, 12,  9, 10, 14, 19,  6,  4,  0, 18,  1, 13,\n",
       "       18, 17, 10,  4, 18, 11,  8, 12, 19,  1, 10, 17, 12, 17,  8,  3, 14,\n",
       "       15,  8,  2, 12, 12,  3, 11,  8,  8,  2,  4, 16, 11, 17, 14,  7,  3,\n",
       "       16,  9, 12,  5,  2,  2,  4,  2, 16, 15, 16, 18, 16,  7,  9,  5, 15,\n",
       "        9, 19,  8,  6, 13, 12, 18,  6,  3, 14,  9,  5,  9, 16, 10, 14,  9,\n",
       "       10, 10, 10, 14,  7, 10, 18,  6,  7, 16,  4,  8,  4, 18,  3,  3, 14,\n",
       "        1,  3, 14,  0,  6,  1,  8, 12, 17,  6,  2, 18, 16, 19,  2,  1,  1,\n",
       "        5, 16, 15,  8, 12,  8,  2,  8,  7, 14,  3,  3, 17,  8,  6,  1,  8,\n",
       "        8,  3,  8,  4,  2,  0, 15, 12,  8,  3,  3,  0,  8, 10,  1,  0,  7,\n",
       "       10,  2, 11,  7, 10, 12, 15,  0, 19,  3, 15, 10, 15,  1,  1, 16, 15,\n",
       "       18,  9, 13, 13, 16,  4,  2, 14, 14, 15, 18, 17, 10,  5, 12, 14, 17,\n",
       "       18, 18, 10, 19,  3, 16,  5,  1, 17, 17,  8, 15,  0,  4, 11, 19, 12,\n",
       "        0, 16,  4, 19,  4, 10,  1, 13,  0, 17, 16,  1,  1,  9,  8, 12, 15,\n",
       "       14, 16, 17, 10, 19, 11, 17,  3, 11,  4,  3,  8,  7, 12,  6, 16, 11,\n",
       "        6,  8,  4,  9, 15,  7, 18, 18, 12,  6,  6,  0, 12, 17,  6, 14, 17,\n",
       "        7,  8,  4, 11, 15,  4,  1,  8,  7, 17,  4,  3, 10,  6,  7,  6, 18,\n",
       "       14,  7,  2, 17,  5,  8, 15, 16,  0,  9, 18, 14,  5, 19, 15,  5, 15,\n",
       "       11,  0,  1, 16, 16,  1, 19, 11,  1, 11, 10, 10, 15,  5,  3, 17, 16,\n",
       "        5, 19,  9, 15,  5, 18, 11,  3,  9, 10,  5,  1, 16, 15,  8, 15,  4,\n",
       "        0, 19,  6, 10, 12,  1, 18,  5, 18, 19, 16, 16,  9, 19, 14,  9,  6,\n",
       "       17, 12, 16, 17,  4, 14,  8, 12,  5, 16,  8, 11,  0,  9,  8, 14, 15,\n",
       "        1,  5,  1, 16,  6,  7, 16, 13,  4, 15,  7,  5, 16, 18, 11, 11, 19,\n",
       "        2,  8,  4, 16,  9,  4, 12, 11, 18,  7, 18, 17, 13, 10, 17, 14,  8,\n",
       "       15, 17,  6,  8, 17, 14,  7, 10, 12, 16, 19,  5,  2,  9, 13,  1,  2,\n",
       "       10, 17, 15,  2, 14,  5, 14, 11,  6,  1, 19,  0,  1,  8,  3,  6, 18,\n",
       "       15, 11, 19, 11, 19,  6,  1,  5,  9,  2, 14, 13,  5, 13],\n",
       "      dtype=uint8)"
      ]
     },
     "execution_count": 12,
     "metadata": {},
     "output_type": "execute_result"
    }
   ],
   "source": [
    "n = 1000\n",
    "merged['train_y'][:n]"
   ]
  },
  {
   "cell_type": "code",
   "execution_count": 13,
   "metadata": {},
   "outputs": [
    {
     "data": {
      "text/plain": [
       "[<matplotlib.lines.Line2D at 0x11d8e022ef0>]"
      ]
     },
     "execution_count": 13,
     "metadata": {},
     "output_type": "execute_result"
    },
    {
     "data": {
      "image/png": "[encoded data removed]",
      "text/plain": [
       "<Figure size 432x288 with 1 Axes>"
      ]
     },
     "metadata": {},
     "output_type": "display_data"
    }
   ],
   "source": [
    "plt.plot(np.arange(n),merged['train_y'][:n])"
   ]
  }
 ],
 "metadata": {
  "kernelspec": {
   "display_name": "Python 3",
   "language": "python",
   "name": "python3"
  },
  "language_info": {
   "codemirror_mode": {
    "name": "ipython",
    "version": 3
   },
   "file_extension": ".py",
   "mimetype": "text/x-python",
   "name": "python",
   "nbconvert_exporter": "python",
   "pygments_lexer": "ipython3",
   "version": "3.6.0"
  }
 },
 "nbformat": 4,
 "nbformat_minor": 2
}
