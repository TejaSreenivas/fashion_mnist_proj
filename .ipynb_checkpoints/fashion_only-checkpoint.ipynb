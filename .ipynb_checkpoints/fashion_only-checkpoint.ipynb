{
 "cells": [
  {
   "cell_type": "code",
   "execution_count": 1,
   "metadata": {},
   "outputs": [],
   "source": [
    "import tensorflow as tf\n",
    "import numpy as np\n",
    "import os\n",
    "import matplotlib.pyplot as plt\n",
    "import load_mnist\n",
    "import time"
   ]
  },
  {
   "cell_type": "code",
   "execution_count": 2,
   "metadata": {},
   "outputs": [
    {
     "data": {
      "text/plain": [
       "'1.9.0'"
      ]
     },
     "execution_count": 2,
     "metadata": {},
     "output_type": "execute_result"
    }
   ],
   "source": [
    "tf.__version__"
   ]
  },
  {
   "cell_type": "code",
   "execution_count": 3,
   "metadata": {},
   "outputs": [],
   "source": [
    "from cnn_model import model"
   ]
  },
  {
   "cell_type": "code",
   "execution_count": 4,
   "metadata": {},
   "outputs": [],
   "source": [
    "def reshape_image(x):\n",
    "    x = np.transpose(x,[0,2,3,1])\n",
    "    return x"
   ]
  },
  {
   "cell_type": "code",
   "execution_count": 5,
   "metadata": {},
   "outputs": [
    {
     "data": {
      "text/plain": [
       "((60000, 1, 28, 28), (10000, 1, 28, 28))"
      ]
     },
     "execution_count": 5,
     "metadata": {},
     "output_type": "execute_result"
    }
   ],
   "source": [
    "mnist = dict()\n",
    "mnist['train_x'],mnist['train_y'],mnist['test_x'],mnist['test_y'] = load_mnist.load_mnist_dataset(os.getcwd()+\"/fashion\")\n",
    "mnist['train_x'].shape,mnist['test_x'].shape"
   ]
  },
  {
   "cell_type": "code",
   "execution_count": 6,
   "metadata": {},
   "outputs": [],
   "source": [
    "mnist['train_x'] = reshape_image(mnist['train_x']/255)\n",
    "mnist['test_x'] = reshape_image(mnist['test_x']/255)"
   ]
  },
  {
   "cell_type": "code",
   "execution_count": 7,
   "metadata": {},
   "outputs": [
    {
     "data": {
      "text/plain": [
       "((60000, 28, 28, 1), (10000, 28, 28, 1))"
      ]
     },
     "execution_count": 7,
     "metadata": {},
     "output_type": "execute_result"
    }
   ],
   "source": [
    "mnist['train_x'].shape,mnist['test_x'].shape"
   ]
  },
  {
   "cell_type": "code",
   "execution_count": 8,
   "metadata": {},
   "outputs": [],
   "source": [
    "batch_size = 100"
   ]
  },
  {
   "cell_type": "code",
   "execution_count": 9,
   "metadata": {},
   "outputs": [
    {
     "data": {
      "text/plain": [
       "(<BatchDataset shapes: ((?, 28, 28, 1), (?, 10)), types: (tf.float32, tf.float32)>,\n",
       " <BatchDataset shapes: ((?, 28, 28, 1), (?, 10)), types: (tf.float32, tf.float32)>,\n",
       " <BatchDataset shapes: ((?, 28, 28, 1), (?, 10)), types: (tf.float32, tf.float32)>)"
      ]
     },
     "execution_count": 9,
     "metadata": {},
     "output_type": "execute_result"
    }
   ],
   "source": [
    "#train\n",
    "dtrain_x = tf.data.Dataset.from_tensor_slices(mnist['train_x'])\n",
    "dtrain_y = tf.data.Dataset.from_tensor_slices(mnist['train_y']).map(lambda x: tf.one_hot(x,10))\n",
    "train_data = tf.data.Dataset.zip((dtrain_x,dtrain_y)).shuffle(1000).repeat().batch(batch_size)\n",
    "\n",
    "train_one_shot = tf.data.Dataset.zip((dtrain_x,dtrain_y)).batch(batch_size)\n",
    "\n",
    "\n",
    "dtest_x = tf.data.Dataset.from_tensor_slices(mnist['test_x'])\n",
    "dtest_y = tf.data.Dataset.from_tensor_slices(mnist['test_y']).map(lambda x: tf.one_hot(x,10))\n",
    "test_data = tf.data.Dataset.zip((dtest_x,dtest_y)).batch(batch_size)\n",
    "\n",
    "dvalid_x = tf.data.Dataset.from_tensor_slices(mnist['test_x'][:1001])\n",
    "dvalid_y = tf.data.Dataset.from_tensor_slices(mnist['test_y'][:1001]).map(lambda x: tf.one_hot(x,10))\n",
    "valid_data =  tf.data.Dataset.zip((dvalid_x,dvalid_y)).repeat().batch(batch_size)\n",
    "\n",
    "(train_data,test_data,valid_data)"
   ]
  },
  {
   "cell_type": "code",
   "execution_count": 10,
   "metadata": {},
   "outputs": [],
   "source": [
    "# data pipline iterator initializer\n",
    "iterator = tf.data.Iterator.from_structure(train_data.output_types,train_data.output_shapes)\n",
    "get_batch = iterator.get_next()\n",
    "#train data 1 shot\n",
    "train_1s_init = iterator.make_initializer(train_one_shot)\n",
    "#train data initiallizer shuffled\n",
    "train_init = iterator.make_initializer(train_data)\n",
    "#test data initializer shuffled\n",
    "test_init = iterator.make_initializer(test_data)\n",
    "# test data one shot initializer\n",
    "valid_init = iterator.make_initializer(valid_data)"
   ]
  },
  {
   "cell_type": "code",
   "execution_count": 11,
   "metadata": {},
   "outputs": [
    {
     "data": {
      "text/plain": [
       "5"
      ]
     },
     "execution_count": 11,
     "metadata": {},
     "output_type": "execute_result"
    }
   ],
   "source": [
    "param=[]\n",
    "param.append(1)\n",
    "param.append([5,64])\n",
    "param.append([5,64])\n",
    "param.append(1500)\n",
    "param.append(10)\n",
    "len(param)"
   ]
  },
  {
   "cell_type": "code",
   "execution_count": 12,
   "metadata": {},
   "outputs": [],
   "source": [
    "is_train = tf.placeholder(shape=(),dtype=tf.bool)\n",
    "prob_keep = tf.placeholder(shape=(),dtype=tf.float32)\n",
    "cnn = model(get_batch[0],is_train,prob_keep,param)"
   ]
  },
  {
   "cell_type": "code",
   "execution_count": 13,
   "metadata": {},
   "outputs": [
    {
     "name": "stdout",
     "output_type": "stream",
     "text": [
      "varname : conv_1/weight:0 [Dimension(5), Dimension(5), Dimension(1), Dimension(64)]\n",
      "varname : conv_1/bias:0 [Dimension(64)]\n",
      "varname : conv_2/weight:0 [Dimension(5), Dimension(5), Dimension(64), Dimension(64)]\n",
      "varname : conv_2/bias:0 [Dimension(64)]\n",
      "varname : dense/kernel:0 [Dimension(3136), Dimension(1500)]\n",
      "varname : dense/bias:0 [Dimension(1500)]\n",
      "varname : dense_1/kernel:0 [Dimension(1500), Dimension(10)]\n",
      "varname : dense_1/bias:0 [Dimension(10)]\n",
      "total number of trainable parameter : 4824638\n"
     ]
    }
   ],
   "source": [
    "logits = cnn.logits\n",
    "info = cnn.total_params()"
   ]
  },
  {
   "cell_type": "code",
   "execution_count": 14,
   "metadata": {},
   "outputs": [],
   "source": [
    "\n",
    "loss = tf.reduce_mean(tf.nn.softmax_cross_entropy_with_logits_v2(labels=get_batch[1],logits=logits))\n",
    "\n",
    "tf.summary.scalar(\"losses\",loss)\n",
    "optimizer = tf.train.AdamOptimizer(0.001).minimize(loss)\n",
    "conf_mtx = tf.confusion_matrix(labels=tf.argmax(get_batch[1],axis=1),predictions = tf.argmax(logits,axis=1),num_classes=10)\n",
    "#get accuracy\n",
    "predictions = tf.argmax(logits,axis=1)\n",
    "equality = tf.equal(predictions,tf.argmax(get_batch[1],axis=1))\n",
    "accuracy = tf.reduce_mean(tf.cast(equality,tf.float32))\n",
    "tf.summary.scalar(\"accuracy\",accuracy)\n",
    "init_op = tf.global_variables_initializer()"
   ]
  },
  {
   "cell_type": "code",
   "execution_count": 15,
   "metadata": {},
   "outputs": [
    {
     "name": "stdout",
     "output_type": "stream",
     "text": [
      "/output/logs_fashion\n"
     ]
    }
   ],
   "source": [
    "log_dir = '/output/logs_fashion'\n",
    "print(log_dir)\n",
    "t_summary = tf.summary.merge_all()\n",
    "writer = tf.summary.FileWriter(log_dir)\n",
    "saver = tf.train.Saver()"
   ]
  },
  {
   "cell_type": "code",
   "execution_count": 16,
   "metadata": {},
   "outputs": [],
   "source": [
    "epochs = 0.01\n",
    "epochs = int(epochs*60000/(batch_size))\n",
    "probability_keep = 0.5"
   ]
  },
  {
   "cell_type": "code",
   "execution_count": 17,
   "metadata": {},
   "outputs": [
    {
     "ename": "NameError",
     "evalue": "name 'cf_mtx' is not defined",
     "output_type": "error",
     "traceback": [
      "\u001b[1;31m---------------------------------------------------------------------------\u001b[0m",
      "\u001b[1;31mNameError\u001b[0m                                 Traceback (most recent call last)",
      "\u001b[1;32m<ipython-input-17-5e30b4b2d781>\u001b[0m in \u001b[0;36m<module>\u001b[1;34m()\u001b[0m\n\u001b[0;32m     10\u001b[0m         \u001b[0msess\u001b[0m\u001b[1;33m.\u001b[0m\u001b[0mrun\u001b[0m\u001b[1;33m(\u001b[0m\u001b[0mtrain_init\u001b[0m\u001b[1;33m)\u001b[0m\u001b[1;33m\u001b[0m\u001b[0m\n\u001b[0;32m     11\u001b[0m         \u001b[0mstart_time\u001b[0m \u001b[1;33m=\u001b[0m \u001b[0mtime\u001b[0m\u001b[1;33m.\u001b[0m\u001b[0mtime\u001b[0m\u001b[1;33m(\u001b[0m\u001b[1;33m)\u001b[0m\u001b[1;33m\u001b[0m\u001b[0m\n\u001b[1;32m---> 12\u001b[1;33m         \u001b[0ml\u001b[0m\u001b[1;33m,\u001b[0m\u001b[0m_\u001b[0m\u001b[1;33m,\u001b[0m\u001b[0macc\u001b[0m\u001b[1;33m,\u001b[0m\u001b[0ms\u001b[0m\u001b[1;33m,\u001b[0m\u001b[0mcmtx\u001b[0m \u001b[1;33m=\u001b[0m \u001b[0msess\u001b[0m\u001b[1;33m.\u001b[0m\u001b[0mrun\u001b[0m\u001b[1;33m(\u001b[0m\u001b[1;33m[\u001b[0m\u001b[0mloss\u001b[0m\u001b[1;33m,\u001b[0m\u001b[0moptimizer\u001b[0m\u001b[1;33m,\u001b[0m\u001b[0maccuracy\u001b[0m\u001b[1;33m,\u001b[0m\u001b[0mt_summary\u001b[0m\u001b[1;33m,\u001b[0m\u001b[0mcf_mtx\u001b[0m\u001b[1;33m]\u001b[0m\u001b[1;33m,\u001b[0m\u001b[0mfeed_dict\u001b[0m\u001b[1;33m=\u001b[0m\u001b[1;33m{\u001b[0m\u001b[0mis_train\u001b[0m\u001b[1;33m:\u001b[0m\u001b[1;32mTrue\u001b[0m\u001b[1;33m,\u001b[0m\u001b[0mprob_keep\u001b[0m\u001b[1;33m:\u001b[0m\u001b[0mprobability_keep\u001b[0m\u001b[1;33m}\u001b[0m\u001b[1;33m)\u001b[0m\u001b[1;33m\u001b[0m\u001b[0m\n\u001b[0m\u001b[0;32m     13\u001b[0m         \u001b[0mduration\u001b[0m \u001b[1;33m=\u001b[0m \u001b[0mduration\u001b[0m \u001b[1;33m+\u001b[0m \u001b[0mtime\u001b[0m\u001b[1;33m.\u001b[0m\u001b[0mtime\u001b[0m\u001b[1;33m(\u001b[0m\u001b[1;33m)\u001b[0m \u001b[1;33m-\u001b[0m \u001b[0mstart_time\u001b[0m\u001b[1;33m\u001b[0m\u001b[0m\n\u001b[0;32m     14\u001b[0m         \u001b[1;31m#print(\"loss  : \"+str(l))\u001b[0m\u001b[1;33m\u001b[0m\u001b[1;33m\u001b[0m\u001b[0m\n",
      "\u001b[1;31mNameError\u001b[0m: name 'cf_mtx' is not defined"
     ]
    }
   ],
   "source": [
    "duration = 0\n",
    "confusion_matrix = np.zeros((10,10),dtype=np.int32)\n",
    "with tf.Session() as sess:\n",
    "    #saver.restore(sess,log_dir+'/curr_model.ckpt')\n",
    "    writer.add_graph(sess.graph)\n",
    "    sess.run(init_op)\n",
    "    train_log_loss=[]\n",
    "    valid_log_acc =[]\n",
    "    for i in range(1,epochs+1):\n",
    "        sess.run(train_init)\n",
    "        start_time = time.time()\n",
    "        l,_,acc,s = sess.run([loss,optimizer,accuracy,t_summary],feed_dict={is_train:True,prob_keep:probability_keep})\n",
    "        duration = duration + time.time() - start_time\n",
    "        #print(\"loss  : \"+str(l))\n",
    "        writer.add_summary(s,i)\n",
    "        # history of loss and accuracy while training\n",
    "        train_log_loss.append(l)\n",
    "        \n",
    "        if i%100==0:\n",
    "            print(\"Epoch :{}, loss :{:.3f}, accuracy :{:.3f}\".format(i,l,acc))\n",
    "            save_path = saver.save(sess,log_dir+'/curr_model.ckpt')    \n",
    "            valid_iter = 10\n",
    "            avg_acc = 0\n",
    "            sess.run(valid_init)\n",
    "            for _ in range(valid_iter):\n",
    "                acc = sess.run([accuracy],feed_dict = {is_train:False,prob_keep:1.0})\n",
    "                avg_acc+=acc[0]\n",
    "            avg_acc=avg_acc*100.0/10\n",
    "            valid_log_acc.append(avg_acc)\n",
    "            print(\"average accuracy :{:.2f}\".format(avg_acc))\n",
    "        \n",
    "    \n",
    "    \n",
    "    print(\"total training duration : {} sec\".format(duration))\n",
    "    #final accuracy on test data\n",
    "    i=0\n",
    "    test_acc = 0\n",
    "    sess.run(test_init)\n",
    "    while True:\n",
    "        try:\n",
    "            #100 --> batch size for one_shot_iter is 100\n",
    "            acc,cfmx = sess.run([accuracy,conf_mtx],feed_dict = {is_train:False,prob_keep:1.0})\n",
    "            confusion_matrix = confusion_matrix + cfmx\n",
    "            i+=1\n",
    "            test_acc+=acc\n",
    "        except tf.errors.OutOfRangeError:\n",
    "            print(\"number of iter  : {}\".format(i))\n",
    "            print(\"Test Accuracy: {}\".format(test_acc*100/i))\n",
    "            test_acc = test_acc*100/i\n",
    "            plt.plot(train_log_loss,label='loss_train',color='r')\n",
    "            plt.plot(valid_log_acc,label='acc_train',color='b')\n",
    "            plt.xlabel(\"epochs\")\n",
    "            plt.legend()\n",
    "            plt.show()\n",
    "            break\n",
    "    train_acc = 0\n",
    "    i = 0\n",
    "    sess.run(train_1s_init)\n",
    "    while True:\n",
    "        try:\n",
    "            acc = sess.run([accuracy],feed_dict = {is_train:False,prob_keep:1.0})\n",
    "            i+=1\n",
    "            train_acc+=acc[0]\n",
    "        except:\n",
    "            train_acc = train_acc*100/i\n",
    "            print(\"train accuracy : {:.3}\".format(train_acc))\n",
    "            break                \n",
    "                  \n"
   ]
  },
  {
   "cell_type": "code",
   "execution_count": null,
   "metadata": {},
   "outputs": [],
   "source": [
    "mnist_dict = dict()\n",
    "mnist_dict['batch_size'] = batch_size\n",
    "mnist_dict['confusion_matrix'] = confusion_matrix\n",
    "mnist_dict['epochs'] = epochs\n",
    "mnist_dict['param_info'] = info\n",
    "mnist_dict['duration'] = np.array([duration])\n",
    "mnist_dict['loss'] = np.array(train_log_loss)\n",
    "mnist_dict['accuracy'] = np.array(valid_log_acc)\n",
    "mnist_dict['test_accuracy'] = np.array(test_acc)\n",
    "mnist_dict['train_accuracy'] = np.array(train_acc)\n",
    "np.save('/output/fashion_logs_saves_30e.npy',mnist_dict)"
   ]
  },
  {
   "cell_type": "code",
   "execution_count": null,
   "metadata": {},
   "outputs": [],
   "source": [
    "mnist_dict['confusion_matrix']"
   ]
  }
 ],
 "metadata": {
  "kernelspec": {
   "display_name": "Python 3",
   "language": "python",
   "name": "python3"
  },
  "language_info": {
   "codemirror_mode": {
    "name": "ipython",
    "version": 3
   },
   "file_extension": ".py",
   "mimetype": "text/x-python",
   "name": "python",
   "nbconvert_exporter": "python",
   "pygments_lexer": "ipython3",
   "version": "3.6.0"
  }
 },
 "nbformat": 4,
 "nbformat_minor": 2
}
